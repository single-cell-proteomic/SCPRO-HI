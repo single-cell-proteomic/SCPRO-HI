{
 "cells": [
  {
   "cell_type": "code",
   "execution_count": 1,
   "id": "bf21f945-485e-4206-8008-455d7f5381fc",
   "metadata": {},
   "outputs": [
    {
     "name": "stderr",
     "output_type": "stream",
     "text": [
      "/opt/conda/envs/python38/lib/python3.8/site-packages/_distutils_hack/__init__.py:33: UserWarning: Setuptools is replacing distutils.\n",
      "  warnings.warn(\"Setuptools is replacing distutils.\")\n",
      "2023-02-03 10:05:24.995571: I tensorflow/core/platform/cpu_feature_guard.cc:193] This TensorFlow binary is optimized with oneAPI Deep Neural Network Library (oneDNN) to use the following CPU instructions in performance-critical operations:  AVX2 AVX512F FMA\n",
      "To enable them in other operations, rebuild TensorFlow with the appropriate compiler flags.\n",
      "2023-02-03 10:05:25.968134: W tensorflow/compiler/xla/stream_executor/platform/default/dso_loader.cc:64] Could not load dynamic library 'libnvinfer.so.7'; dlerror: libnvinfer.so.7: cannot open shared object file: No such file or directory; LD_LIBRARY_PATH: /usr/local/cuda/lib64:/usr/local/nccl2/lib:/usr/local/cuda/extras/CUPTI/lib64\n",
      "2023-02-03 10:05:25.968296: W tensorflow/compiler/xla/stream_executor/platform/default/dso_loader.cc:64] Could not load dynamic library 'libnvinfer_plugin.so.7'; dlerror: libnvinfer_plugin.so.7: cannot open shared object file: No such file or directory; LD_LIBRARY_PATH: /usr/local/cuda/lib64:/usr/local/nccl2/lib:/usr/local/cuda/extras/CUPTI/lib64\n",
      "2023-02-03 10:05:25.968309: W tensorflow/compiler/tf2tensorrt/utils/py_utils.cc:38] TF-TRT Warning: Cannot dlopen some TensorRT libraries. If you would like to use Nvidia GPU with TensorRT, please make sure the missing libraries mentioned above are installed properly.\n"
     ]
    }
   ],
   "source": [
    "from SCPRO import scprohi_run, eval_results"
   ]
  },
  {
   "cell_type": "code",
   "execution_count": null,
   "id": "1ec55127-5b75-48d2-af97-299788d2533f",
   "metadata": {},
   "outputs": [
    {
     "name": "stdout",
     "output_type": "stream",
     "text": [
      "wcct4d_term_srcluster120k.h5ad is under process.\n",
      "zac_Cyno_ifgn_term_srcluster120k.h5ad is under process.\n",
      "zac_Rheus_ifgn_term_srcluster120k.h5ad is under process.\n",
      "zac_ifgn_term_srcluster120k.h5ad is under process.\n"
     ]
    },
    {
     "name": "stderr",
     "output_type": "stream",
     "text": [
      "/opt/conda/envs/python38/lib/python3.8/site-packages/anndata/_core/anndata.py:1828: UserWarning: Observation names are not unique. To make them unique, call `.obs_names_make_unique`.\n",
      "  utils.warn_names_duplicates(\"obs\")\n"
     ]
    },
    {
     "name": "stdout",
     "output_type": "stream",
     "text": [
      "Number of unclustered cells:  1\n",
      "Number of unclustered cells:  0\n",
      "Number of unclustered cells:  2\n",
      "Number of unclustered cells:  8\n",
      "Unmatched Clusters: 11 - 38 ['3_wcct4d_term_srcluster120k', '7_wcct4d_term_srcluster120k', '0_zac_Cyno_ifgn_term_srcluster120k', '6_zac_Cyno_ifgn_term_srcluster120k', '0_zac_Rheus_ifgn_term_srcluster120k', '2_zac_Rheus_ifgn_term_srcluster120k', '3_zac_Rheus_ifgn_term_srcluster120k', '10_zac_Rheus_ifgn_term_srcluster120k', '1_zac_ifgn_term_srcluster120k', '3_zac_ifgn_term_srcluster120k', '8_zac_ifgn_term_srcluster120k']\n",
      "new_group ----> group_7  :  ['1_zac_ifgn_term_srcluster120k', '2_zac_Rheus_ifgn_term_srcluster120k']\n",
      "Batch group ->  group_8 ['3_wcct4d_term_srcluster120k', '3_wcct4d_term_srcluster120k', '7_wcct4d_term_srcluster120k']\n",
      "Batch group ->  group_9 ['0_zac_Cyno_ifgn_term_srcluster120k', '0_zac_Cyno_ifgn_term_srcluster120k', '6_zac_Cyno_ifgn_term_srcluster120k']\n",
      "Batch group ->  group_10 ['0_zac_Rheus_ifgn_term_srcluster120k', '0_zac_Rheus_ifgn_term_srcluster120k', '3_zac_Rheus_ifgn_term_srcluster120k', '10_zac_Rheus_ifgn_term_srcluster120k']\n",
      "Batch group ->  group_11 ['3_zac_ifgn_term_srcluster120k', '3_zac_ifgn_term_srcluster120k', '8_zac_ifgn_term_srcluster120k']\n",
      "12426 25814 200 200\n",
      "12426 25814 1\n",
      "152 25889 152 152\n",
      "152 25889 27\n",
      "189 30883 189 189\n",
      "189 30883 0\n",
      "11869 25889 200 200\n"
     ]
    }
   ],
   "source": [
    "data_path = \"Data\"\n",
    "method = \"SCPRO-HI\"\n",
    "scData = scprohi_run(method, data_path)\n",
    "performance_results = eval_results(scData, \"SCPRO-HI\")"
   ]
  },
  {
   "cell_type": "code",
   "execution_count": null,
   "id": "91b09dcb-c654-4cf8-828d-d73e135ee604",
   "metadata": {},
   "outputs": [],
   "source": [
    "performance_results = eval_results(scData, \"SCPRO-HI\")"
   ]
  },
  {
   "cell_type": "code",
   "execution_count": null,
   "id": "20c5f359-71c4-41fd-b05b-923b18fc7898",
   "metadata": {},
   "outputs": [],
   "source": []
  }
 ],
 "metadata": {
  "environment": {
   "kernel": "python38",
   "name": "common-cu110.m102",
   "type": "gcloud",
   "uri": "gcr.io/deeplearning-platform-release/base-cu110:m102"
  },
  "kernelspec": {
   "display_name": "python38",
   "language": "python",
   "name": "python38"
  },
  "language_info": {
   "codemirror_mode": {
    "name": "ipython",
    "version": 3
   },
   "file_extension": ".py",
   "mimetype": "text/x-python",
   "name": "python",
   "nbconvert_exporter": "python",
   "pygments_lexer": "ipython3",
   "version": "3.8.15"
  }
 },
 "nbformat": 4,
 "nbformat_minor": 5
}
