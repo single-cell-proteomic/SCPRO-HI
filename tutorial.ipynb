{
 "cells": [
  {
   "cell_type": "markdown",
   "id": "f430f61f-3607-48dd-8be3-1de5a39a5551",
   "metadata": {},
   "source": [
    "Import Packages"
   ]
  },
  {
   "cell_type": "code",
   "execution_count": null,
   "id": "bf21f945-485e-4206-8008-455d7f5381fc",
   "metadata": {},
   "outputs": [],
   "source": [
    "from SCPRO import scprohi_run, eval_results"
   ]
  },
  {
   "cell_type": "markdown",
   "id": "b3bb3496-de3a-4dad-9e63-039ec0e0e424",
   "metadata": {},
   "source": [
    "Run Integration"
   ]
  },
  {
   "cell_type": "code",
   "execution_count": null,
   "id": "1ec55127-5b75-48d2-af97-299788d2533f",
   "metadata": {},
   "outputs": [],
   "source": [
    "data_path = \"Data\"\n",
    "method = \"All\"\n",
    "scData = scprohi_run(method, data_path)"
   ]
  },
  {
   "cell_type": "markdown",
   "id": "a3393319-d4b3-4bdb-874f-9624b42e2b9d",
   "metadata": {},
   "source": [
    "Eval and Print Results"
   ]
  },
  {
   "cell_type": "code",
   "execution_count": null,
   "id": "91b09dcb-c654-4cf8-828d-d73e135ee604",
   "metadata": {},
   "outputs": [],
   "source": [
    "for _method in scData.whole.obsm.keys():\n",
    "    performance_results = eval_results(scData, _method)\n",
    "    print(_method + \" performance results: \")\n",
    "    print(performance_results)\n",
    "    print(\"~\" * 20)"
   ]
  },
  {
   "cell_type": "code",
   "execution_count": null,
   "id": "a9b177ab-063c-46c8-be30-00adb7d13523",
   "metadata": {},
   "outputs": [],
   "source": []
  }
 ],
 "metadata": {
  "environment": {
   "kernel": "python38",
   "name": "common-cu110.m102",
   "type": "gcloud",
   "uri": "gcr.io/deeplearning-platform-release/base-cu110:m102"
  },
  "kernelspec": {
   "display_name": "python38",
   "language": "python",
   "name": "python38"
  },
  "language_info": {
   "codemirror_mode": {
    "name": "ipython",
    "version": 3
   },
   "file_extension": ".py",
   "mimetype": "text/x-python",
   "name": "python",
   "nbconvert_exporter": "python",
   "pygments_lexer": "ipython3",
   "version": "3.8.15"
  }
 },
 "nbformat": 4,
 "nbformat_minor": 5
}
